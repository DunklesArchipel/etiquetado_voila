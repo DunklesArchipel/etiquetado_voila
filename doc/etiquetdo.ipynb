{
 "cells": [
  {
   "cell_type": "code",
   "execution_count": 1,
   "metadata": {},
   "outputs": [],
   "source": [
    "%load_ext autoreload\n",
    "%autoreload 2"
   ]
  },
  {
   "cell_type": "markdown",
   "metadata": {},
   "source": [
    "# Etiquetado"
   ]
  },
  {
   "cell_type": "markdown",
   "metadata": {},
   "source": [
    "The basic App allows tagging files with metadata stored in a YAML template. The YAML template can be modified while watching a folder, which allows tagging files with updated metadata."
   ]
  },
  {
   "cell_type": "code",
   "execution_count": 4,
   "metadata": {},
   "outputs": [],
   "source": [
    "from etiquetado_voila.apps.apps import AutoQuetado"
   ]
  },
  {
   "cell_type": "code",
   "execution_count": 5,
   "metadata": {},
   "outputs": [
    {
     "data": {
      "application/vnd.jupyter.widget-view+json": {
       "model_id": "3b288c0024154b52bbaf7f686d2a0289",
       "version_major": 2,
       "version_minor": 0
      },
      "text/plain": [
       "Tab(children=(VBox(children=(Dropdown(description='Yaml templates', layout=Layout(flex='flex-grow', width='400…"
      ]
     },
     "execution_count": 5,
     "metadata": {},
     "output_type": "execute_result"
    },
    {
     "name": "stdout",
     "output_type": "stream",
     "text": [
      "observer not running\n",
      "start watching files with suffix '.csv' in folder './files/data_raw/'.\n"
     ]
    }
   ],
   "source": [
    "app = AutoQuetado(observed_dir='./files/data_raw/',\n",
    "                  suffix='.csv', # The period is mandatory\n",
    "                  template_dir='./files/yaml_templates/')\n",
    "app.gui()"
   ]
  },
  {
   "cell_type": "markdown",
   "metadata": {},
   "source": [
    "Create a number of dummy files."
   ]
  },
  {
   "cell_type": "code",
   "execution_count": 6,
   "metadata": {},
   "outputs": [],
   "source": [
    "import pandas as pd\n",
    "data = {'x':[0,1,2], 'y':[0,1,2]}\n",
    "df = pd.DataFrame(data)\n",
    "for i in [1,2,3]:\n",
    "    df.to_csv(f'./files/data_raw/with_metadata_10{i}.csv', index=False)"
   ]
  },
  {
   "cell_type": "markdown",
   "metadata": {},
   "source": [
    "Additional callbacks can be added."
   ]
  },
  {
   "cell_type": "code",
   "execution_count": 7,
   "metadata": {},
   "outputs": [],
   "source": [
    "def print_filename(_, filename):\n",
    "    return print(f\"File with name '{filename}' was created.\")\n",
    "app.on_file_created(print_filename)"
   ]
  },
  {
   "cell_type": "code",
   "execution_count": 8,
   "metadata": {},
   "outputs": [
    {
     "name": "stdout",
     "output_type": "stream",
     "text": [
      "File with name './files/data_raw/with_metadata_printed.csv' was created."
     ]
    },
    {
     "name": "stdout",
     "output_type": "stream",
     "text": [
      "\n"
     ]
    }
   ],
   "source": [
    "df = pd.DataFrame(data)\n",
    "df.to_csv(f'./files/data_raw/with_metadata_printed.csv', index=False)"
   ]
  },
  {
   "cell_type": "code",
   "execution_count": 9,
   "metadata": {},
   "outputs": [
    {
     "name": "stdout",
     "output_type": "stream",
     "text": [
      "Stopped watching\n"
     ]
    },
    {
     "data": {
      "text/plain": [
       "True"
      ]
     },
     "execution_count": 9,
     "metadata": {},
     "output_type": "execute_result"
    }
   ],
   "source": [
    "app.foa.stop()"
   ]
  },
  {
   "cell_type": "markdown",
   "metadata": {},
   "source": [
    "Metadata can also be modified or enhanced"
   ]
  },
  {
   "cell_type": "code",
   "execution_count": 10,
   "metadata": {},
   "outputs": [],
   "source": [
    "def add_metadata(metadata, filename):\n",
    "    metadata.setdefault('foo', 'bar')\n",
    "\n",
    "    import time\n",
    "    metadata.setdefault(\n",
    "            \"time metadata\", time.strftime(\"%Y-%m-%d %H:%M:%S\", time.localtime())\n",
    "        )\n",
    "    metadata.setdefault(\"filename\", filename)\n",
    "    return metadata"
   ]
  },
  {
   "cell_type": "code",
   "execution_count": 11,
   "metadata": {},
   "outputs": [
    {
     "data": {
      "application/vnd.jupyter.widget-view+json": {
       "model_id": "af9f6a59d32d41e9ac72d99c7b23b493",
       "version_major": 2,
       "version_minor": 0
      },
      "text/plain": [
       "Tab(children=(VBox(children=(Dropdown(description='Yaml templates', layout=Layout(flex='flex-grow', width='400…"
      ]
     },
     "execution_count": 11,
     "metadata": {},
     "output_type": "execute_result"
    },
    {
     "name": "stdout",
     "output_type": "stream",
     "text": [
      "observer not running\n",
      "start watching files with suffix '.csv' in folder './files/data_raw/'.\n",
      "Stopped watching\n"
     ]
    }
   ],
   "source": [
    "app = AutoQuetado(observed_dir='./files/data_raw/',\n",
    "                  suffix='.csv', # The period is mandatory\n",
    "                  template_dir='./files/yaml_templates/',\n",
    "                  update_metadata=add_metadata)\n",
    "app.gui()"
   ]
  },
  {
   "cell_type": "code",
   "execution_count": 12,
   "metadata": {},
   "outputs": [],
   "source": [
    "import pandas as pd\n",
    "data = {'x':[0,1,2], 'y':[0,1,2]}\n",
    "df = pd.DataFrame(data)\n",
    "df.to_csv(f'./files/data_raw/add_metadata.csv', index=False)"
   ]
  },
  {
   "cell_type": "code",
   "execution_count": null,
   "metadata": {},
   "outputs": [],
   "source": []
  }
 ],
 "metadata": {
  "kernelspec": {
   "display_name": "watchdog",
   "language": "python",
   "name": "python3"
  },
  "language_info": {
   "codemirror_mode": {
    "name": "ipython",
    "version": 3
   },
   "file_extension": ".py",
   "mimetype": "text/x-python",
   "name": "python",
   "nbconvert_exporter": "python",
   "pygments_lexer": "ipython3",
   "version": "3.12.3"
  }
 },
 "nbformat": 4,
 "nbformat_minor": 2
}
