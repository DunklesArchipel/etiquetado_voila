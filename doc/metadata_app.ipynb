{
 "cells": [
  {
   "cell_type": "code",
   "execution_count": 1,
   "metadata": {},
   "outputs": [],
   "source": [
    "%load_ext autoreload\n",
    "%autoreload 2"
   ]
  },
  {
   "cell_type": "code",
   "execution_count": 2,
   "metadata": {},
   "outputs": [],
   "source": [
    "from etiquetado_voila.apps.apps import AutoQuetado"
   ]
  },
  {
   "cell_type": "code",
   "execution_count": 7,
   "metadata": {},
   "outputs": [
    {
     "data": {
      "application/vnd.jupyter.widget-view+json": {
       "model_id": "715dc8d9f73c4a20950db739988d1183",
       "version_major": 2,
       "version_minor": 0
      },
      "text/plain": [
       "Tab(children=(VBox(children=(Dropdown(description='Yaml templates', options=('./files/yaml_templates\\\\demo.yam…"
      ]
     },
     "execution_count": 7,
     "metadata": {},
     "output_type": "execute_result"
    },
    {
     "name": "stdout",
     "output_type": "stream",
     "text": [
      "observer created\n",
      "start watching files with suffix '.csv' in folder './files/data_raw/'.\n",
      "Stopped watching\n",
      "observer created\n",
      "start watching files with suffix '.csv' in folder './files/data_raw/'.\n",
      "Stopped watching\n",
      "observer created\n",
      "start watching files with suffix '.csv' in folder './files/data_raw/'.\n",
      "./files/data_raw/with_metadata_01.csv\n",
      "./files/data_raw/with_metadata_01.csv\n",
      "./files/data_raw/with_metadata_02.csv\n",
      "./files/data_raw/with_metadata_03.csv\n",
      "Stopped watching\n"
     ]
    }
   ],
   "source": [
    "app = AutoQuetado(observed_dir='./files/data_raw/', suffix='.csv', template_dir='./files/yaml_templates/', metadata_defaults={'user': 'AKE'})\n",
    "app.gui()"
   ]
  },
  {
   "cell_type": "code",
   "execution_count": 11,
   "metadata": {},
   "outputs": [
    {
     "name": "stdout",
     "output_type": "stream",
     "text": [
      "./files/data_raw/with_metadata_0.csv\n"
     ]
    }
   ],
   "source": [
    "with open('./files/data_raw/with_metadata_0.csv', 'w') as f:\n",
    "    f.write"
   ]
  },
  {
   "cell_type": "markdown",
   "metadata": {},
   "source": [
    "Change the username in the second tab. Hit enter and generate a new file. The username will be updated in the output YAML"
   ]
  },
  {
   "cell_type": "code",
   "execution_count": 6,
   "metadata": {},
   "outputs": [
    {
     "name": "stdout",
     "output_type": "stream",
     "text": [
      "./files/data_raw/with_matadat_03.csv\n"
     ]
    }
   ],
   "source": [
    "with open('./files/data_raw/with_metadata_03.csv', 'w') as f:\n",
    "    f.write"
   ]
  },
  {
   "cell_type": "code",
   "execution_count": 6,
   "metadata": {},
   "outputs": [
    {
     "data": {
      "text/plain": [
       "'./files/yaml_templates\\\\demo.yaml'"
      ]
     },
     "execution_count": 6,
     "metadata": {},
     "output_type": "execute_result"
    }
   ],
   "source": [
    "app.dropdown_yaml.value"
   ]
  },
  {
   "cell_type": "code",
   "execution_count": 4,
   "metadata": {},
   "outputs": [
    {
     "data": {
      "text/plain": [
       "{'user': 'AKE'}"
      ]
     },
     "execution_count": 4,
     "metadata": {},
     "output_type": "execute_result"
    }
   ],
   "source": [
    "app.mds_textfields"
   ]
  },
  {
   "cell_type": "code",
   "execution_count": null,
   "metadata": {},
   "outputs": [],
   "source": []
  }
 ],
 "metadata": {
  "kernelspec": {
   "display_name": "Python 3 (ipykernel)",
   "language": "python",
   "name": "python3"
  },
  "language_info": {
   "codemirror_mode": {
    "name": "ipython",
    "version": 3
   },
   "file_extension": ".py",
   "mimetype": "text/x-python",
   "name": "python",
   "nbconvert_exporter": "python",
   "pygments_lexer": "ipython3",
   "version": "3.12.2"
  }
 },
 "nbformat": 4,
 "nbformat_minor": 4
}
