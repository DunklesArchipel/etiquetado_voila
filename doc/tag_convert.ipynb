{
 "cells": [
  {
   "cell_type": "code",
   "execution_count": 1,
   "metadata": {},
   "outputs": [],
   "source": [
    "%load_ext autoreload\n",
    "%autoreload 2"
   ]
  },
  {
   "cell_type": "code",
   "execution_count": 43,
   "metadata": {},
   "outputs": [],
   "source": [
    "from etiquetado_voila.apps.apps import AutoQuetadoConverter"
   ]
  },
  {
   "cell_type": "code",
   "execution_count": 49,
   "metadata": {},
   "outputs": [
    {
     "name": "stdout",
     "output_type": "stream",
     "text": [
      "observer created\n",
      "start watching files with suffix '.csv' in folder './files/data_raw/'.\n",
      "Stop watching\n"
     ]
    }
   ],
   "source": [
    "app = AutoQuetadoConverter(observed_dir='./files/data_raw/', metadata_defaults={'user': 'AKE'})"
   ]
  },
  {
   "cell_type": "code",
   "execution_count": 50,
   "metadata": {},
   "outputs": [
    {
     "data": {
      "application/vnd.jupyter.widget-view+json": {
       "model_id": "7ddd46e04c7845599e5352f21405a329",
       "version_major": 2,
       "version_minor": 0
      },
      "text/plain": [
       "VBox(children=(Tab(children=(VBox(children=(Dropdown(description='Yaml templates', options=('./files/yaml_temp…"
      ]
     },
     "execution_count": 50,
     "metadata": {},
     "output_type": "execute_result"
    }
   ],
   "source": [
    "app.conv_gui()"
   ]
  },
  {
   "cell_type": "code",
   "execution_count": 42,
   "metadata": {},
   "outputs": [],
   "source": [
    "app.list_options.reset_options([])"
   ]
  },
  {
   "cell_type": "code",
   "execution_count": 51,
   "metadata": {},
   "outputs": [
    {
     "name": "stdout",
     "output_type": "stream",
     "text": [
      "./files/data_raw/with_metadata_01.csv\n",
      "./files/data_raw/with_metadata_01.csv\n",
      "./files/data_raw/with_metadata_01.csv\n",
      "./files/data_raw/with_metadata_01.csv\n",
      "./files/data_raw/with_metadata_01.csv\n",
      "./files/data_raw/with_metadata_02.csv\n",
      "./files/data_raw/with_metadata_02.csv\n",
      "./files/data_raw/with_metadata_02.csv\n",
      "./files/data_raw/with_metadata_02.csv\n",
      "./files/data_raw/with_metadata_03.csv\n",
      "./files/data_raw/with_metadata_02.csv\n",
      "./files/data_raw/with_metadata_03.csv\n",
      "./files/data_raw/with_metadata_03.csv\n",
      "./files/data_raw/with_metadata_03.csv\n"
     ]
    },
    {
     "name": "stdout",
     "output_type": "stream",
     "text": [
      "./files/data_raw/with_metadata_03.csv\n"
     ]
    }
   ],
   "source": [
    "import pandas as pd\n",
    "data = {'x':[0,1,2], 'y':[0,1,2]}\n",
    "df = pd.DataFrame(data)\n",
    "for i in [1,2,3]:\n",
    "    df.to_csv(f'./files/data_raw/with_metadata_0{i}.csv', index=False)"
   ]
  },
  {
   "cell_type": "code",
   "execution_count": null,
   "metadata": {},
   "outputs": [],
   "source": []
  }
 ],
 "metadata": {
  "kernelspec": {
   "display_name": "watchdog",
   "language": "python",
   "name": "python3"
  },
  "language_info": {
   "codemirror_mode": {
    "name": "ipython",
    "version": 3
   },
   "file_extension": ".py",
   "mimetype": "text/x-python",
   "name": "python",
   "nbconvert_exporter": "python",
   "pygments_lexer": "ipython3",
   "version": "3.12.2"
  }
 },
 "nbformat": 4,
 "nbformat_minor": 2
}
