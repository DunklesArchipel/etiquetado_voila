{
 "cells": [
  {
   "cell_type": "code",
   "execution_count": 1,
   "metadata": {},
   "outputs": [],
   "source": [
    "%load_ext autoreload\n",
    "%autoreload 2"
   ]
  },
  {
   "cell_type": "code",
   "execution_count": 2,
   "metadata": {},
   "outputs": [],
   "source": [
    "from etiquetado_voila.apps.apps import AutoQuetado"
   ]
  },
  {
   "cell_type": "code",
   "execution_count": 3,
   "metadata": {},
   "outputs": [
    {
     "data": {
      "application/vnd.jupyter.widget-view+json": {
       "model_id": "6eb53def5734416cb4a2a091c9b9a6ba",
       "version_major": 2,
       "version_minor": 0
      },
      "text/plain": [
       "VBox(children=(Dropdown(description='Yaml templates', options=('./files/yaml_templates\\\\demo.yaml',), value='.…"
      ]
     },
     "execution_count": 3,
     "metadata": {},
     "output_type": "execute_result"
    },
    {
     "name": "stdout",
     "output_type": "stream",
     "text": [
      "observer created\n",
      "start watching files with suffix '.csv' in folder './files/data_raw'.\n",
      "Stopped watching\n",
      "observer created\n",
      "start watching files with suffix '.csv' in folder './files/data_raw'.\n"
     ]
    }
   ],
   "source": [
    "app = AutoQuetado(observed_dir='./files/data_raw', suffix='.csv', template_dir='./files/yaml_templates')\n",
    "app.gui()"
   ]
  },
  {
   "cell_type": "code",
   "execution_count": 5,
   "metadata": {},
   "outputs": [
    {
     "name": "stdout",
     "output_type": "stream",
     "text": [
      "./files/data_raw\\test02.csv\n"
     ]
    }
   ],
   "source": [
    "with open('./files/data_raw/autoquetado.csv', 'w') as f:\n",
    "    f.write"
   ]
  },
  {
   "cell_type": "markdown",
   "metadata": {},
   "source": [
    "Test for fast file creation."
   ]
  },
  {
   "cell_type": "code",
   "execution_count": 6,
   "metadata": {},
   "outputs": [
    {
     "name": "stdout",
     "output_type": "stream",
     "text": [
      "./files/data_raw\\autoquetado100.csv\n",
      "./files/data_raw\\autoquetado101.csv\n",
      "./files/data_raw\\autoquetado102.csv\n"
     ]
    },
    {
     "name": "stdout",
     "output_type": "stream",
     "text": [
      "./files/data_raw\\autoquetado103.csv\n"
     ]
    }
   ],
   "source": [
    "# testing for fast file creation\n",
    "for i in range(100,104,1):\n",
    "    with open(f'./files/data_raw/autoquetado{i}.csv', 'w') as f:\n",
    "        f.write"
   ]
  },
  {
   "cell_type": "markdown",
   "metadata": {},
   "source": [
    "## Accessing App properties"
   ]
  },
  {
   "cell_type": "code",
   "execution_count": 14,
   "metadata": {},
   "outputs": [
    {
     "data": {
      "text/plain": [
       "'./files/yaml_templates\\\\demo.yaml'"
      ]
     },
     "execution_count": 14,
     "metadata": {},
     "output_type": "execute_result"
    }
   ],
   "source": [
    "app.template_selector.dropdown_yaml.value"
   ]
  },
  {
   "cell_type": "code",
   "execution_count": 17,
   "metadata": {},
   "outputs": [
    {
     "data": {
      "text/plain": [
       "'.csv'"
      ]
     },
     "execution_count": 17,
     "metadata": {},
     "output_type": "execute_result"
    }
   ],
   "source": [
    "app.foa.text_box_file_suffix.value"
   ]
  },
  {
   "cell_type": "code",
   "execution_count": 10,
   "metadata": {},
   "outputs": [
    {
     "data": {
      "text/plain": [
       "{'user': 'Max Doe',\n",
       " 'temperature': {'unit': 'K', 'value': 500},\n",
       " 'system': 'foo'}"
      ]
     },
     "execution_count": 10,
     "metadata": {},
     "output_type": "execute_result"
    }
   ],
   "source": [
    "with open(app.yaml_template, 'rb') as f:\n",
    "    import yaml\n",
    "    metadata = yaml.load(f, Loader=yaml.SafeLoader)\n",
    "\n",
    "metadata"
   ]
  },
  {
   "cell_type": "markdown",
   "metadata": {},
   "source": [
    "Files can also manually be tagged, for example when the tagger was not turned on."
   ]
  },
  {
   "cell_type": "code",
   "execution_count": 22,
   "metadata": {},
   "outputs": [
    {
     "name": "stdout",
     "output_type": "stream",
     "text": [
      "./files/data_raw/api_tagged.txt\n"
     ]
    }
   ],
   "source": [
    "with open('./files/data_raw/api_tagged.txt', 'w') as f:\n",
    "    f.write\n",
    "\n",
    "app.tag('./files/data_raw/api_tagged.txt')"
   ]
  },
  {
   "cell_type": "code",
   "execution_count": null,
   "metadata": {},
   "outputs": [],
   "source": []
  }
 ],
 "metadata": {
  "kernelspec": {
   "display_name": "etiquetado-dev",
   "language": "python",
   "name": "python3"
  },
  "language_info": {
   "codemirror_mode": {
    "name": "ipython",
    "version": 3
   },
   "file_extension": ".py",
   "mimetype": "text/x-python",
   "name": "python",
   "nbconvert_exporter": "python",
   "pygments_lexer": "ipython3",
   "version": "3.12.2"
  }
 },
 "nbformat": 4,
 "nbformat_minor": 2
}
